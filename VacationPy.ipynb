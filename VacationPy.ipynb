{
 "cells": [
  {
   "cell_type": "code",
   "execution_count": 1,
   "id": "751ba34a",
   "metadata": {},
   "outputs": [],
   "source": [
    "%matplotlib inline"
   ]
  },
  {
   "cell_type": "code",
   "execution_count": 2,
   "id": "63359e22",
   "metadata": {},
   "outputs": [],
   "source": [
    "#Import dependencies\n",
    "import pandas as pd\n",
    "import matplotlib.pyplot as plt\n",
    "import gmaps\n",
    "import requests\n",
    "\n",
    "#import Google Cloud api key\n",
    "from config import g_c_api_key\n",
    "\n",
    "## Note_ When using gmaps, the data being mapped must be an integer or floating-point dec #"
   ]
  },
  {
   "cell_type": "code",
   "execution_count": 3,
   "id": "2e2d21ec",
   "metadata": {},
   "outputs": [
    {
     "data": {
      "text/html": [
       "<div>\n",
       "<style scoped>\n",
       "    .dataframe tbody tr th:only-of-type {\n",
       "        vertical-align: middle;\n",
       "    }\n",
       "\n",
       "    .dataframe tbody tr th {\n",
       "        vertical-align: top;\n",
       "    }\n",
       "\n",
       "    .dataframe thead th {\n",
       "        text-align: right;\n",
       "    }\n",
       "</style>\n",
       "<table border=\"1\" class=\"dataframe\">\n",
       "  <thead>\n",
       "    <tr style=\"text-align: right;\">\n",
       "      <th></th>\n",
       "      <th>City_ID</th>\n",
       "      <th>City</th>\n",
       "      <th>Country</th>\n",
       "      <th>Date</th>\n",
       "      <th>Lat</th>\n",
       "      <th>Lng</th>\n",
       "      <th>Max Temp</th>\n",
       "      <th>Humidity</th>\n",
       "      <th>Cloudiness</th>\n",
       "      <th>Wind Speed</th>\n",
       "    </tr>\n",
       "  </thead>\n",
       "  <tbody>\n",
       "    <tr>\n",
       "      <th>0</th>\n",
       "      <td>0</td>\n",
       "      <td>Rikitea</td>\n",
       "      <td>PF</td>\n",
       "      <td>2021-11-29 23:47:24</td>\n",
       "      <td>-23.1203</td>\n",
       "      <td>-134.9692</td>\n",
       "      <td>76.50</td>\n",
       "      <td>77</td>\n",
       "      <td>0</td>\n",
       "      <td>20.98</td>\n",
       "    </tr>\n",
       "    <tr>\n",
       "      <th>1</th>\n",
       "      <td>1</td>\n",
       "      <td>Clyde River</td>\n",
       "      <td>CA</td>\n",
       "      <td>2021-11-29 23:47:24</td>\n",
       "      <td>70.4692</td>\n",
       "      <td>-68.5914</td>\n",
       "      <td>-0.17</td>\n",
       "      <td>78</td>\n",
       "      <td>90</td>\n",
       "      <td>9.22</td>\n",
       "    </tr>\n",
       "    <tr>\n",
       "      <th>2</th>\n",
       "      <td>2</td>\n",
       "      <td>Naze</td>\n",
       "      <td>JP</td>\n",
       "      <td>2021-11-29 23:47:25</td>\n",
       "      <td>28.3667</td>\n",
       "      <td>129.4833</td>\n",
       "      <td>70.72</td>\n",
       "      <td>73</td>\n",
       "      <td>65</td>\n",
       "      <td>16.46</td>\n",
       "    </tr>\n",
       "    <tr>\n",
       "      <th>3</th>\n",
       "      <td>3</td>\n",
       "      <td>Vaini</td>\n",
       "      <td>TO</td>\n",
       "      <td>2021-11-29 23:47:25</td>\n",
       "      <td>-21.2000</td>\n",
       "      <td>-175.2000</td>\n",
       "      <td>84.36</td>\n",
       "      <td>70</td>\n",
       "      <td>20</td>\n",
       "      <td>9.22</td>\n",
       "    </tr>\n",
       "    <tr>\n",
       "      <th>4</th>\n",
       "      <td>4</td>\n",
       "      <td>Iqaluit</td>\n",
       "      <td>CA</td>\n",
       "      <td>2021-11-29 23:47:25</td>\n",
       "      <td>63.7506</td>\n",
       "      <td>-68.5145</td>\n",
       "      <td>11.93</td>\n",
       "      <td>79</td>\n",
       "      <td>90</td>\n",
       "      <td>17.27</td>\n",
       "    </tr>\n",
       "  </tbody>\n",
       "</table>\n",
       "</div>"
      ],
      "text/plain": [
       "   City_ID         City Country                 Date      Lat       Lng  \\\n",
       "0        0      Rikitea      PF  2021-11-29 23:47:24 -23.1203 -134.9692   \n",
       "1        1  Clyde River      CA  2021-11-29 23:47:24  70.4692  -68.5914   \n",
       "2        2         Naze      JP  2021-11-29 23:47:25  28.3667  129.4833   \n",
       "3        3        Vaini      TO  2021-11-29 23:47:25 -21.2000 -175.2000   \n",
       "4        4      Iqaluit      CA  2021-11-29 23:47:25  63.7506  -68.5145   \n",
       "\n",
       "   Max Temp  Humidity  Cloudiness  Wind Speed  \n",
       "0     76.50        77           0       20.98  \n",
       "1     -0.17        78          90        9.22  \n",
       "2     70.72        73          65       16.46  \n",
       "3     84.36        70          20        9.22  \n",
       "4     11.93        79          90       17.27  "
      ]
     },
     "execution_count": 3,
     "metadata": {},
     "output_type": "execute_result"
    }
   ],
   "source": [
    "# Store the CSV you saved created in part one into a DataFrame.\n",
    "city_data_df = pd.read_csv(\"weather_data/cities.csv\")\n",
    "city_data_df.head()"
   ]
  },
  {
   "cell_type": "code",
   "execution_count": 4,
   "id": "130c36d8",
   "metadata": {},
   "outputs": [
    {
     "data": {
      "text/plain": [
       "City_ID         int64\n",
       "City           object\n",
       "Country        object\n",
       "Date           object\n",
       "Lat           float64\n",
       "Lng           float64\n",
       "Max Temp      float64\n",
       "Humidity        int64\n",
       "Cloudiness      int64\n",
       "Wind Speed    float64\n",
       "dtype: object"
      ]
     },
     "execution_count": 4,
     "metadata": {},
     "output_type": "execute_result"
    }
   ],
   "source": [
    "#Check the data types\n",
    "city_data_df.dtypes"
   ]
  },
  {
   "cell_type": "code",
   "execution_count": 5,
   "id": "177af9ee",
   "metadata": {},
   "outputs": [],
   "source": [
    "#Configure gmaps to use the api key\n",
    "gmaps.configure(api_key=g_c_api_key)"
   ]
  },
  {
   "cell_type": "code",
   "execution_count": 6,
   "id": "0d742c11",
   "metadata": {},
   "outputs": [],
   "source": [
    "# Get the maximum temperature.\n",
    "max_temp = city_data_df[\"Max Temp\"]\n",
    "temps = []\n",
    "for temp in max_temp:\n",
    "    temps.append(max(temp, 0))"
   ]
  },
  {
   "cell_type": "code",
   "execution_count": 7,
   "id": "7614638c",
   "metadata": {},
   "outputs": [
    {
     "data": {
      "text/plain": [
       "582"
      ]
     },
     "execution_count": 7,
     "metadata": {},
     "output_type": "execute_result"
    }
   ],
   "source": [
    "len(city_data_df)"
   ]
  },
  {
   "cell_type": "code",
   "execution_count": 8,
   "id": "bb631c69",
   "metadata": {},
   "outputs": [],
   "source": [
    "#drop rows with null values\n",
    "city_data_df = city_data_df.dropna()"
   ]
  },
  {
   "cell_type": "code",
   "execution_count": 9,
   "id": "4775fbee",
   "metadata": {},
   "outputs": [
    {
     "data": {
      "text/plain": [
       "578"
      ]
     },
     "execution_count": 9,
     "metadata": {},
     "output_type": "execute_result"
    }
   ],
   "source": [
    "len(city_data_df)"
   ]
  },
  {
   "cell_type": "code",
   "execution_count": 10,
   "id": "c30cb6a9",
   "metadata": {},
   "outputs": [
    {
     "data": {
      "application/vnd.jupyter.widget-view+json": {
       "model_id": "eb651bec805541b88d008b64f5f62a4d",
       "version_major": 2,
       "version_minor": 0
      },
      "text/plain": [
       "Figure(layout=FigureLayout(height='420px'))"
      ]
     },
     "metadata": {},
     "output_type": "display_data"
    }
   ],
   "source": [
    "# Heatmap of TEMPERATURE\n",
    "# Get the latitude and longitude.\n",
    "locations = city_data_df[[\"Lat\", \"Lng\"]]\n",
    "\n",
    "# Get the maximum temperature.\n",
    "max_temp = city_data_df[\"Max Temp\"]\n",
    "\n",
    "# Assign the figure variable.\n",
    "fig = gmaps.figure(center=(30.0, 31.0), zoom_level=1.5)\n",
    "\n",
    "# Assign the heatmap variable.\n",
    "heat_layer = gmaps.heatmap_layer(locations, weights=[max(temp, 0) for temp in max_temp],\n",
    "                                 dissipating=False, max_intensity=300, point_radius=4)\n",
    "\n",
    "# Add the heatmap layer.\n",
    "fig.add_layer(heat_layer)\n",
    "# Call the figure to plot the data.\n",
    "fig"
   ]
  },
  {
   "cell_type": "code",
   "execution_count": 15,
   "id": "89db05f4",
   "metadata": {},
   "outputs": [
    {
     "data": {
      "application/vnd.jupyter.widget-view+json": {
       "model_id": "fa6855a18a4b44408a07fb1f3237e26a",
       "version_major": 2,
       "version_minor": 0
      },
      "text/plain": [
       "Figure(layout=FigureLayout(height='420px'))"
      ]
     },
     "metadata": {},
     "output_type": "display_data"
    }
   ],
   "source": [
    "# Heatmap of percent HUMIDITY\n",
    "locations = city_data_df[[\"Lat\", \"Lng\"]]\n",
    "humidity = city_data_df[\"Humidity\"]\n",
    "fig = gmaps.figure(center=(30.0, 31.0), zoom_level=1.5)\n",
    "heat_layer = gmaps.heatmap_layer(locations, weights=humidity, dissipating=False, max_intensity=300, point_radius=4)\n",
    "\n",
    "fig.add_layer(heat_layer)\n",
    "# Call the figure to plot the data.\n",
    "fig"
   ]
  },
  {
   "cell_type": "code",
   "execution_count": 16,
   "id": "ed6a3687",
   "metadata": {},
   "outputs": [
    {
     "data": {
      "application/vnd.jupyter.widget-view+json": {
       "model_id": "c07561f008f1476e856c78b44ca90af9",
       "version_major": 2,
       "version_minor": 0
      },
      "text/plain": [
       "Figure(layout=FigureLayout(height='420px'))"
      ]
     },
     "metadata": {},
     "output_type": "display_data"
    }
   ],
   "source": [
    "# Heatmap of percent CLOUDINESS\n",
    "locations = city_data_df[[\"Lat\", \"Lng\"]]\n",
    "clouds = city_data_df[\"Cloudiness\"]\n",
    "fig = gmaps.figure(center=(30.0, 31.0), zoom_level=1.5)\n",
    "heat_layer = gmaps.heatmap_layer(locations, weights=clouds, dissipating=False, max_intensity=300, point_radius=4)\n",
    "\n",
    "fig.add_layer(heat_layer)\n",
    "# Call the figure to plot the data.\n",
    "fig"
   ]
  },
  {
   "cell_type": "code",
   "execution_count": 17,
   "id": "956bd2c1",
   "metadata": {},
   "outputs": [
    {
     "data": {
      "application/vnd.jupyter.widget-view+json": {
       "model_id": "c564506b56b34fb194f8394e6526070d",
       "version_major": 2,
       "version_minor": 0
      },
      "text/plain": [
       "Figure(layout=FigureLayout(height='420px'))"
      ]
     },
     "metadata": {},
     "output_type": "display_data"
    }
   ],
   "source": [
    "# Heatmap of percent WIND SPEED\n",
    "locations = city_data_df[[\"Lat\", \"Lng\"]]\n",
    "wind = city_data_df[\"Wind Speed\"]\n",
    "fig = gmaps.figure(center=(30.0, 31.0), zoom_level=1.5)\n",
    "heat_layer = gmaps.heatmap_layer(locations, weights=wind, dissipating=False, max_intensity=300, point_radius=4)\n",
    "\n",
    "fig.add_layer(heat_layer)\n",
    "# Call the figure to plot the data.\n",
    "fig"
   ]
  },
  {
   "cell_type": "code",
   "execution_count": 18,
   "id": "9b0f612b",
   "metadata": {},
   "outputs": [
    {
     "name": "stdout",
     "output_type": "stream",
     "text": [
      "What is the minimum temperature you would like for your trip? 75\n",
      "What is the maximum temperature you would like for your trip? 90\n"
     ]
    }
   ],
   "source": [
    "# Ask the customer to add a minimum and maximum temperature value.\n",
    "min_temp = float(input(\"What is the minimum temperature you would like for your trip? \"))\n",
    "max_temp = float(input(\"What is the maximum temperature you would like for your trip? \"))"
   ]
  },
  {
   "cell_type": "code",
   "execution_count": 19,
   "id": "aece0c49",
   "metadata": {},
   "outputs": [
    {
     "data": {
      "text/html": [
       "<div>\n",
       "<style scoped>\n",
       "    .dataframe tbody tr th:only-of-type {\n",
       "        vertical-align: middle;\n",
       "    }\n",
       "\n",
       "    .dataframe tbody tr th {\n",
       "        vertical-align: top;\n",
       "    }\n",
       "\n",
       "    .dataframe thead th {\n",
       "        text-align: right;\n",
       "    }\n",
       "</style>\n",
       "<table border=\"1\" class=\"dataframe\">\n",
       "  <thead>\n",
       "    <tr style=\"text-align: right;\">\n",
       "      <th></th>\n",
       "      <th>City_ID</th>\n",
       "      <th>City</th>\n",
       "      <th>Country</th>\n",
       "      <th>Date</th>\n",
       "      <th>Lat</th>\n",
       "      <th>Lng</th>\n",
       "      <th>Max Temp</th>\n",
       "      <th>Humidity</th>\n",
       "      <th>Cloudiness</th>\n",
       "      <th>Wind Speed</th>\n",
       "    </tr>\n",
       "  </thead>\n",
       "  <tbody>\n",
       "    <tr>\n",
       "      <th>0</th>\n",
       "      <td>0</td>\n",
       "      <td>Rikitea</td>\n",
       "      <td>PF</td>\n",
       "      <td>2021-11-29 23:47:24</td>\n",
       "      <td>-23.1203</td>\n",
       "      <td>-134.9692</td>\n",
       "      <td>76.50</td>\n",
       "      <td>77</td>\n",
       "      <td>0</td>\n",
       "      <td>20.98</td>\n",
       "    </tr>\n",
       "    <tr>\n",
       "      <th>3</th>\n",
       "      <td>3</td>\n",
       "      <td>Vaini</td>\n",
       "      <td>TO</td>\n",
       "      <td>2021-11-29 23:47:25</td>\n",
       "      <td>-21.2000</td>\n",
       "      <td>-175.2000</td>\n",
       "      <td>84.36</td>\n",
       "      <td>70</td>\n",
       "      <td>20</td>\n",
       "      <td>9.22</td>\n",
       "    </tr>\n",
       "    <tr>\n",
       "      <th>8</th>\n",
       "      <td>8</td>\n",
       "      <td>Arraial Do Cabo</td>\n",
       "      <td>BR</td>\n",
       "      <td>2021-11-29 23:47:27</td>\n",
       "      <td>-22.9661</td>\n",
       "      <td>-42.0278</td>\n",
       "      <td>76.96</td>\n",
       "      <td>88</td>\n",
       "      <td>0</td>\n",
       "      <td>12.66</td>\n",
       "    </tr>\n",
       "    <tr>\n",
       "      <th>13</th>\n",
       "      <td>13</td>\n",
       "      <td>San Policarpo</td>\n",
       "      <td>PH</td>\n",
       "      <td>2021-11-29 23:47:28</td>\n",
       "      <td>12.1791</td>\n",
       "      <td>125.5072</td>\n",
       "      <td>82.18</td>\n",
       "      <td>79</td>\n",
       "      <td>100</td>\n",
       "      <td>4.18</td>\n",
       "    </tr>\n",
       "    <tr>\n",
       "      <th>14</th>\n",
       "      <td>14</td>\n",
       "      <td>Ouricuri</td>\n",
       "      <td>BR</td>\n",
       "      <td>2021-11-29 23:47:28</td>\n",
       "      <td>-7.8825</td>\n",
       "      <td>-40.0817</td>\n",
       "      <td>78.89</td>\n",
       "      <td>63</td>\n",
       "      <td>95</td>\n",
       "      <td>3.31</td>\n",
       "    </tr>\n",
       "    <tr>\n",
       "      <th>15</th>\n",
       "      <td>15</td>\n",
       "      <td>Atuona</td>\n",
       "      <td>PF</td>\n",
       "      <td>2021-11-29 23:47:28</td>\n",
       "      <td>-9.8000</td>\n",
       "      <td>-139.0333</td>\n",
       "      <td>78.94</td>\n",
       "      <td>76</td>\n",
       "      <td>18</td>\n",
       "      <td>21.94</td>\n",
       "    </tr>\n",
       "    <tr>\n",
       "      <th>17</th>\n",
       "      <td>17</td>\n",
       "      <td>Floresta</td>\n",
       "      <td>BR</td>\n",
       "      <td>2021-11-29 23:47:29</td>\n",
       "      <td>-8.6011</td>\n",
       "      <td>-38.5686</td>\n",
       "      <td>84.04</td>\n",
       "      <td>51</td>\n",
       "      <td>94</td>\n",
       "      <td>9.69</td>\n",
       "    </tr>\n",
       "    <tr>\n",
       "      <th>20</th>\n",
       "      <td>20</td>\n",
       "      <td>Bac Lieu</td>\n",
       "      <td>VN</td>\n",
       "      <td>2021-11-29 23:47:30</td>\n",
       "      <td>9.2850</td>\n",
       "      <td>105.7244</td>\n",
       "      <td>76.84</td>\n",
       "      <td>92</td>\n",
       "      <td>100</td>\n",
       "      <td>5.14</td>\n",
       "    </tr>\n",
       "    <tr>\n",
       "      <th>26</th>\n",
       "      <td>26</td>\n",
       "      <td>Avarua</td>\n",
       "      <td>CK</td>\n",
       "      <td>2021-11-29 23:43:04</td>\n",
       "      <td>-21.2078</td>\n",
       "      <td>-159.7750</td>\n",
       "      <td>80.65</td>\n",
       "      <td>61</td>\n",
       "      <td>78</td>\n",
       "      <td>14.97</td>\n",
       "    </tr>\n",
       "    <tr>\n",
       "      <th>27</th>\n",
       "      <td>27</td>\n",
       "      <td>Kapaa</td>\n",
       "      <td>US</td>\n",
       "      <td>2021-11-29 23:47:32</td>\n",
       "      <td>22.0752</td>\n",
       "      <td>-159.3190</td>\n",
       "      <td>84.18</td>\n",
       "      <td>64</td>\n",
       "      <td>40</td>\n",
       "      <td>4.00</td>\n",
       "    </tr>\n",
       "  </tbody>\n",
       "</table>\n",
       "</div>"
      ],
      "text/plain": [
       "    City_ID             City Country                 Date      Lat       Lng  \\\n",
       "0         0          Rikitea      PF  2021-11-29 23:47:24 -23.1203 -134.9692   \n",
       "3         3            Vaini      TO  2021-11-29 23:47:25 -21.2000 -175.2000   \n",
       "8         8  Arraial Do Cabo      BR  2021-11-29 23:47:27 -22.9661  -42.0278   \n",
       "13       13    San Policarpo      PH  2021-11-29 23:47:28  12.1791  125.5072   \n",
       "14       14         Ouricuri      BR  2021-11-29 23:47:28  -7.8825  -40.0817   \n",
       "15       15           Atuona      PF  2021-11-29 23:47:28  -9.8000 -139.0333   \n",
       "17       17         Floresta      BR  2021-11-29 23:47:29  -8.6011  -38.5686   \n",
       "20       20         Bac Lieu      VN  2021-11-29 23:47:30   9.2850  105.7244   \n",
       "26       26           Avarua      CK  2021-11-29 23:43:04 -21.2078 -159.7750   \n",
       "27       27            Kapaa      US  2021-11-29 23:47:32  22.0752 -159.3190   \n",
       "\n",
       "    Max Temp  Humidity  Cloudiness  Wind Speed  \n",
       "0      76.50        77           0       20.98  \n",
       "3      84.36        70          20        9.22  \n",
       "8      76.96        88           0       12.66  \n",
       "13     82.18        79         100        4.18  \n",
       "14     78.89        63          95        3.31  \n",
       "15     78.94        76          18       21.94  \n",
       "17     84.04        51          94        9.69  \n",
       "20     76.84        92         100        5.14  \n",
       "26     80.65        61          78       14.97  \n",
       "27     84.18        64          40        4.00  "
      ]
     },
     "execution_count": 19,
     "metadata": {},
     "output_type": "execute_result"
    }
   ],
   "source": [
    "# Filter the dataset to find the cities that fit the criteria.\n",
    "preferred_cities_df = city_data_df.loc[(city_data_df[\"Max Temp\"] <= max_temp) & \\\n",
    "                                       (city_data_df[\"Max Temp\"] >= min_temp)]\n",
    "preferred_cities_df.head(10)"
   ]
  },
  {
   "cell_type": "code",
   "execution_count": 22,
   "id": "aa67e9b6",
   "metadata": {},
   "outputs": [
    {
     "data": {
      "text/plain": [
       "City_ID       151\n",
       "City          151\n",
       "Country       151\n",
       "Date          151\n",
       "Lat           151\n",
       "Lng           151\n",
       "Max Temp      151\n",
       "Humidity      151\n",
       "Cloudiness    151\n",
       "Wind Speed    151\n",
       "dtype: int64"
      ]
     },
     "execution_count": 22,
     "metadata": {},
     "output_type": "execute_result"
    }
   ],
   "source": [
    "#Count how many cities are between the customer's requested min & max temps\n",
    "preferred_cities_df.count()"
   ]
  },
  {
   "cell_type": "code",
   "execution_count": 25,
   "id": "da0bf10d",
   "metadata": {},
   "outputs": [
    {
     "data": {
      "text/html": [
       "<div>\n",
       "<style scoped>\n",
       "    .dataframe tbody tr th:only-of-type {\n",
       "        vertical-align: middle;\n",
       "    }\n",
       "\n",
       "    .dataframe tbody tr th {\n",
       "        vertical-align: top;\n",
       "    }\n",
       "\n",
       "    .dataframe thead th {\n",
       "        text-align: right;\n",
       "    }\n",
       "</style>\n",
       "<table border=\"1\" class=\"dataframe\">\n",
       "  <thead>\n",
       "    <tr style=\"text-align: right;\">\n",
       "      <th></th>\n",
       "      <th>City</th>\n",
       "      <th>Country</th>\n",
       "      <th>Max Temp</th>\n",
       "      <th>Lat</th>\n",
       "      <th>Lng</th>\n",
       "      <th>Hotel Name</th>\n",
       "    </tr>\n",
       "  </thead>\n",
       "  <tbody>\n",
       "    <tr>\n",
       "      <th>0</th>\n",
       "      <td>Rikitea</td>\n",
       "      <td>PF</td>\n",
       "      <td>76.50</td>\n",
       "      <td>-23.1203</td>\n",
       "      <td>-134.9692</td>\n",
       "      <td></td>\n",
       "    </tr>\n",
       "    <tr>\n",
       "      <th>3</th>\n",
       "      <td>Vaini</td>\n",
       "      <td>TO</td>\n",
       "      <td>84.36</td>\n",
       "      <td>-21.2000</td>\n",
       "      <td>-175.2000</td>\n",
       "      <td></td>\n",
       "    </tr>\n",
       "    <tr>\n",
       "      <th>8</th>\n",
       "      <td>Arraial Do Cabo</td>\n",
       "      <td>BR</td>\n",
       "      <td>76.96</td>\n",
       "      <td>-22.9661</td>\n",
       "      <td>-42.0278</td>\n",
       "      <td></td>\n",
       "    </tr>\n",
       "    <tr>\n",
       "      <th>13</th>\n",
       "      <td>San Policarpo</td>\n",
       "      <td>PH</td>\n",
       "      <td>82.18</td>\n",
       "      <td>12.1791</td>\n",
       "      <td>125.5072</td>\n",
       "      <td></td>\n",
       "    </tr>\n",
       "    <tr>\n",
       "      <th>14</th>\n",
       "      <td>Ouricuri</td>\n",
       "      <td>BR</td>\n",
       "      <td>78.89</td>\n",
       "      <td>-7.8825</td>\n",
       "      <td>-40.0817</td>\n",
       "      <td></td>\n",
       "    </tr>\n",
       "    <tr>\n",
       "      <th>15</th>\n",
       "      <td>Atuona</td>\n",
       "      <td>PF</td>\n",
       "      <td>78.94</td>\n",
       "      <td>-9.8000</td>\n",
       "      <td>-139.0333</td>\n",
       "      <td></td>\n",
       "    </tr>\n",
       "    <tr>\n",
       "      <th>17</th>\n",
       "      <td>Floresta</td>\n",
       "      <td>BR</td>\n",
       "      <td>84.04</td>\n",
       "      <td>-8.6011</td>\n",
       "      <td>-38.5686</td>\n",
       "      <td></td>\n",
       "    </tr>\n",
       "    <tr>\n",
       "      <th>20</th>\n",
       "      <td>Bac Lieu</td>\n",
       "      <td>VN</td>\n",
       "      <td>76.84</td>\n",
       "      <td>9.2850</td>\n",
       "      <td>105.7244</td>\n",
       "      <td></td>\n",
       "    </tr>\n",
       "    <tr>\n",
       "      <th>26</th>\n",
       "      <td>Avarua</td>\n",
       "      <td>CK</td>\n",
       "      <td>80.65</td>\n",
       "      <td>-21.2078</td>\n",
       "      <td>-159.7750</td>\n",
       "      <td></td>\n",
       "    </tr>\n",
       "    <tr>\n",
       "      <th>27</th>\n",
       "      <td>Kapaa</td>\n",
       "      <td>US</td>\n",
       "      <td>84.18</td>\n",
       "      <td>22.0752</td>\n",
       "      <td>-159.3190</td>\n",
       "      <td></td>\n",
       "    </tr>\n",
       "  </tbody>\n",
       "</table>\n",
       "</div>"
      ],
      "text/plain": [
       "               City Country  Max Temp      Lat       Lng Hotel Name\n",
       "0           Rikitea      PF     76.50 -23.1203 -134.9692           \n",
       "3             Vaini      TO     84.36 -21.2000 -175.2000           \n",
       "8   Arraial Do Cabo      BR     76.96 -22.9661  -42.0278           \n",
       "13    San Policarpo      PH     82.18  12.1791  125.5072           \n",
       "14         Ouricuri      BR     78.89  -7.8825  -40.0817           \n",
       "15           Atuona      PF     78.94  -9.8000 -139.0333           \n",
       "17         Floresta      BR     84.04  -8.6011  -38.5686           \n",
       "20         Bac Lieu      VN     76.84   9.2850  105.7244           \n",
       "26           Avarua      CK     80.65 -21.2078 -159.7750           \n",
       "27            Kapaa      US     84.18  22.0752 -159.3190           "
      ]
     },
     "execution_count": 25,
     "metadata": {},
     "output_type": "execute_result"
    }
   ],
   "source": [
    "# Create DataFrame called hotel_df to store hotel names along with city, country, max temp, and coordinates.\n",
    "hotel_df = preferred_cities_df[[\"City\", \"Country\", \"Max Temp\", \"Lat\", \"Lng\"]].copy()\n",
    "#Add a new column in the DataFrame to hold the hotel name\n",
    "hotel_df[\"Hotel Name\"] = \"\"\n",
    "hotel_df.head(10)"
   ]
  },
  {
   "cell_type": "code",
   "execution_count": 26,
   "id": "9c19b906",
   "metadata": {},
   "outputs": [],
   "source": [
    "# Set parameters to search for a hotel.\n",
    "params = {\n",
    "    \"radius\": 5000,\n",
    "    \"type\": \"lodging\",\n",
    "    \"key\": g_c_api_key\n",
    "}\n"
   ]
  },
  {
   "cell_type": "code",
   "execution_count": 28,
   "id": "53be02f0",
   "metadata": {},
   "outputs": [
    {
     "name": "stdout",
     "output_type": "stream",
     "text": [
      "Hotel not found...skipping this one\n",
      "Hotel not found...skipping this one\n",
      "Hotel not found...skipping this one\n",
      "Hotel not found...skipping this one\n",
      "Hotel not found...skipping this one\n",
      "Hotel not found...skipping this one\n",
      "Hotel not found...skipping this one\n",
      "Hotel not found...skipping this one\n",
      "Hotel not found...skipping this one\n",
      "Hotel not found...skipping this one\n",
      "Hotel not found...skipping this one\n"
     ]
    }
   ],
   "source": [
    "# Iterate through the DataFrame.\n",
    "for index, row in hotel_df.iterrows():\n",
    "    # Get the latitude and longitude.\n",
    "    lat = row[\"Lat\"]\n",
    "    lng = row[\"Lng\"]\n",
    "\n",
    "    # Add the latitude and longitude to location key for the params dictionary.\n",
    "    params[\"location\"] = f\"{lat},{lng}\"\n",
    "\n",
    "    # Use the search term: \"lodging\" and our latitude and longitude.\n",
    "    base_url = \"https://maps.googleapis.com/maps/api/place/nearbysearch/json\"\n",
    "    \n",
    "    # Make request and get the JSON data from the search.\n",
    "    hotels = requests.get(base_url, params=params).json()\n",
    "    \n",
    "    # Grab the first hotel from the results and store the name.\n",
    "    try:\n",
    "        hotel_df.loc[index, \"Hotel Name\"] = hotels[\"results\"][0][\"name\"]\n",
    "    except (IndexError):\n",
    "        print(\"Hotel not found...skipping this one\")"
   ]
  },
  {
   "cell_type": "code",
   "execution_count": 31,
   "id": "43f33fc2",
   "metadata": {},
   "outputs": [
    {
     "data": {
      "text/html": [
       "<div>\n",
       "<style scoped>\n",
       "    .dataframe tbody tr th:only-of-type {\n",
       "        vertical-align: middle;\n",
       "    }\n",
       "\n",
       "    .dataframe tbody tr th {\n",
       "        vertical-align: top;\n",
       "    }\n",
       "\n",
       "    .dataframe thead th {\n",
       "        text-align: right;\n",
       "    }\n",
       "</style>\n",
       "<table border=\"1\" class=\"dataframe\">\n",
       "  <thead>\n",
       "    <tr style=\"text-align: right;\">\n",
       "      <th></th>\n",
       "      <th>City</th>\n",
       "      <th>Country</th>\n",
       "      <th>Max Temp</th>\n",
       "      <th>Lat</th>\n",
       "      <th>Lng</th>\n",
       "      <th>Hotel Name</th>\n",
       "    </tr>\n",
       "  </thead>\n",
       "  <tbody>\n",
       "    <tr>\n",
       "      <th>535</th>\n",
       "      <td>Mecca</td>\n",
       "      <td>SA</td>\n",
       "      <td>75.49</td>\n",
       "      <td>21.4267</td>\n",
       "      <td>39.8261</td>\n",
       "      <td>Makkah Clock Royal Tower, A Fairmont Hotel</td>\n",
       "    </tr>\n",
       "    <tr>\n",
       "      <th>537</th>\n",
       "      <td>Sibolga</td>\n",
       "      <td>ID</td>\n",
       "      <td>75.38</td>\n",
       "      <td>1.7427</td>\n",
       "      <td>98.7792</td>\n",
       "      <td>Hotel Syariah CN Darussalam</td>\n",
       "    </tr>\n",
       "    <tr>\n",
       "      <th>539</th>\n",
       "      <td>Ahuimanu</td>\n",
       "      <td>US</td>\n",
       "      <td>78.78</td>\n",
       "      <td>21.4447</td>\n",
       "      <td>-157.8378</td>\n",
       "      <td>Paradise Bay Resort</td>\n",
       "    </tr>\n",
       "    <tr>\n",
       "      <th>542</th>\n",
       "      <td>Codrington</td>\n",
       "      <td>AU</td>\n",
       "      <td>80.13</td>\n",
       "      <td>-38.2667</td>\n",
       "      <td>141.9667</td>\n",
       "      <td>Codrington Gardens Bed And Breakfast</td>\n",
       "    </tr>\n",
       "    <tr>\n",
       "      <th>544</th>\n",
       "      <td>Yaan</td>\n",
       "      <td>NG</td>\n",
       "      <td>76.96</td>\n",
       "      <td>7.3833</td>\n",
       "      <td>8.5667</td>\n",
       "      <td></td>\n",
       "    </tr>\n",
       "    <tr>\n",
       "      <th>562</th>\n",
       "      <td>Mlonggo</td>\n",
       "      <td>ID</td>\n",
       "      <td>78.69</td>\n",
       "      <td>-6.5333</td>\n",
       "      <td>110.7000</td>\n",
       "      <td>Asia Metal Art</td>\n",
       "    </tr>\n",
       "    <tr>\n",
       "      <th>564</th>\n",
       "      <td>Gat</td>\n",
       "      <td>IL</td>\n",
       "      <td>76.41</td>\n",
       "      <td>31.6100</td>\n",
       "      <td>34.7642</td>\n",
       "      <td>OlusHome</td>\n",
       "    </tr>\n",
       "    <tr>\n",
       "      <th>569</th>\n",
       "      <td>Sigli</td>\n",
       "      <td>ID</td>\n",
       "      <td>75.74</td>\n",
       "      <td>5.3848</td>\n",
       "      <td>95.9609</td>\n",
       "      <td>Losmen Dua Mali</td>\n",
       "    </tr>\n",
       "    <tr>\n",
       "      <th>570</th>\n",
       "      <td>Atambua</td>\n",
       "      <td>ID</td>\n",
       "      <td>79.79</td>\n",
       "      <td>-9.1061</td>\n",
       "      <td>124.8925</td>\n",
       "      <td>Pastori 1 Jemaat Polycarpus</td>\n",
       "    </tr>\n",
       "    <tr>\n",
       "      <th>577</th>\n",
       "      <td>San Pedro</td>\n",
       "      <td>PH</td>\n",
       "      <td>82.31</td>\n",
       "      <td>14.3500</td>\n",
       "      <td>121.0167</td>\n",
       "      <td>Villa Veronica Resort Private Pool</td>\n",
       "    </tr>\n",
       "  </tbody>\n",
       "</table>\n",
       "</div>"
      ],
      "text/plain": [
       "           City Country  Max Temp      Lat       Lng  \\\n",
       "535       Mecca      SA     75.49  21.4267   39.8261   \n",
       "537     Sibolga      ID     75.38   1.7427   98.7792   \n",
       "539    Ahuimanu      US     78.78  21.4447 -157.8378   \n",
       "542  Codrington      AU     80.13 -38.2667  141.9667   \n",
       "544        Yaan      NG     76.96   7.3833    8.5667   \n",
       "562     Mlonggo      ID     78.69  -6.5333  110.7000   \n",
       "564         Gat      IL     76.41  31.6100   34.7642   \n",
       "569       Sigli      ID     75.74   5.3848   95.9609   \n",
       "570     Atambua      ID     79.79  -9.1061  124.8925   \n",
       "577   San Pedro      PH     82.31  14.3500  121.0167   \n",
       "\n",
       "                                     Hotel Name  \n",
       "535  Makkah Clock Royal Tower, A Fairmont Hotel  \n",
       "537                 Hotel Syariah CN Darussalam  \n",
       "539                         Paradise Bay Resort  \n",
       "542        Codrington Gardens Bed And Breakfast  \n",
       "544                                              \n",
       "562                              Asia Metal Art  \n",
       "564                                    OlusHome  \n",
       "569                             Losmen Dua Mali  \n",
       "570                 Pastori 1 Jemaat Polycarpus  \n",
       "577          Villa Veronica Resort Private Pool  "
      ]
     },
     "execution_count": 31,
     "metadata": {},
     "output_type": "execute_result"
    }
   ],
   "source": [
    "hotel_df.tail(10)"
   ]
  },
  {
   "cell_type": "code",
   "execution_count": 37,
   "id": "ac928175",
   "metadata": {},
   "outputs": [],
   "source": [
    "#Create an info box template\n",
    "info_box_template = \"\"\"\n",
    "<dl>\n",
    "<dt>Hotel Name</dt><dd>{Hotel Name}</dd>\n",
    "<dt>City</dt><dd>{City}</dd>\n",
    "<dt>Country</dt><dd>{Country}</dd>\n",
    "<dt>Max Temp</dt><dd>{Max Temp} °F</dd>\n",
    "</dl>\n",
    "\"\"\"\n",
    "#iterate through rows and place info in info box template\n",
    "hotel_info = [info_box_template.format(**row) for index, row in hotel_df.iterrows()]"
   ]
  },
  {
   "cell_type": "code",
   "execution_count": 38,
   "id": "8136787d",
   "metadata": {},
   "outputs": [
    {
     "data": {
      "application/vnd.jupyter.widget-view+json": {
       "model_id": "ea62954573ad44b3969fc2769f6d761f",
       "version_major": 2,
       "version_minor": 0
      },
      "text/plain": [
       "Figure(layout=FigureLayout(height='420px'))"
      ]
     },
     "metadata": {},
     "output_type": "display_data"
    }
   ],
   "source": [
    "# Add a heatmap of temperature for the vacation spots.\n",
    "locations = hotel_df[[\"Lat\", \"Lng\"]]\n",
    "max_temp = hotel_df[\"Max Temp\"]\n",
    "fig = gmaps.figure(center=(30.0, 31.0), zoom_level=1.5)\n",
    "heat_layer = gmaps.heatmap_layer(locations, weights=max_temp, dissipating=False,\n",
    "             max_intensity=300, point_radius=4)\n",
    "#Add markers\n",
    "marker_layer = gmaps.marker_layer(locations, info_box_content=hotel_info)\n",
    "\n",
    "fig.add_layer(marker_layer)\n",
    "fig.add_layer(heat_layer)\n",
    "# Call the figure to plot the data.\n",
    "fig"
   ]
  },
  {
   "cell_type": "code",
   "execution_count": null,
   "id": "af2042e7",
   "metadata": {},
   "outputs": [],
   "source": []
  }
 ],
 "metadata": {
  "kernelspec": {
   "display_name": "PythonData",
   "language": "python",
   "name": "pythondata"
  },
  "language_info": {
   "codemirror_mode": {
    "name": "ipython",
    "version": 3
   },
   "file_extension": ".py",
   "mimetype": "text/x-python",
   "name": "python",
   "nbconvert_exporter": "python",
   "pygments_lexer": "ipython3",
   "version": "3.7.10"
  }
 },
 "nbformat": 4,
 "nbformat_minor": 5
}
