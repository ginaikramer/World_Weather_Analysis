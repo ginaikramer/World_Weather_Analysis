{
 "cells": [
  {
   "cell_type": "code",
   "execution_count": 1,
   "id": "1c35743e",
   "metadata": {},
   "outputs": [],
   "source": [
    "#Import the random module\n",
    "import random"
   ]
  },
  {
   "cell_type": "code",
   "execution_count": 2,
   "id": "0de08b5f",
   "metadata": {},
   "outputs": [
    {
     "data": {
      "text/plain": [
       "0.07227925902408383"
      ]
     },
     "execution_count": 2,
     "metadata": {},
     "output_type": "execute_result"
    }
   ],
   "source": [
    "random.random()"
   ]
  },
  {
   "cell_type": "code",
   "execution_count": 3,
   "id": "78a7177e",
   "metadata": {},
   "outputs": [
    {
     "data": {
      "text/plain": [
       "-2"
      ]
     },
     "execution_count": 3,
     "metadata": {},
     "output_type": "execute_result"
    }
   ],
   "source": [
    "random.randint(-10,10)"
   ]
  },
  {
   "cell_type": "code",
   "execution_count": 4,
   "id": "71a0c9fb",
   "metadata": {},
   "outputs": [
    {
     "data": {
      "text/plain": [
       "-4"
      ]
     },
     "execution_count": 4,
     "metadata": {},
     "output_type": "execute_result"
    }
   ],
   "source": [
    "random.randrange(-10,10,3)"
   ]
  },
  {
   "cell_type": "code",
   "execution_count": 5,
   "id": "942c920f",
   "metadata": {},
   "outputs": [
    {
     "data": {
      "text/plain": [
       "-6.380091903663859"
      ]
     },
     "execution_count": 5,
     "metadata": {},
     "output_type": "execute_result"
    }
   ],
   "source": [
    "random.uniform(-10,10)"
   ]
  },
  {
   "cell_type": "code",
   "execution_count": 6,
   "id": "a861a0a3",
   "metadata": {},
   "outputs": [
    {
     "data": {
      "text/plain": [
       "-34.91696546244925"
      ]
     },
     "execution_count": 6,
     "metadata": {},
     "output_type": "execute_result"
    }
   ],
   "source": [
    "random_number=random.randint(-90,89) + random.random()\n",
    "random_number"
   ]
  },
  {
   "cell_type": "code",
   "execution_count": 7,
   "id": "2193b80a",
   "metadata": {},
   "outputs": [],
   "source": [
    "#Import the NumPy module\n",
    "import numpy as np"
   ]
  },
  {
   "cell_type": "code",
   "execution_count": 8,
   "id": "0ea197b2",
   "metadata": {},
   "outputs": [
    {
     "data": {
      "text/plain": [
       "64.58637437503793"
      ]
     },
     "execution_count": 8,
     "metadata": {},
     "output_type": "execute_result"
    }
   ],
   "source": [
    "#Call the random.uniform method of np\n",
    "np.random.uniform(-90.000 , 90.000)"
   ]
  },
  {
   "cell_type": "code",
   "execution_count": 9,
   "id": "5484c396",
   "metadata": {},
   "outputs": [
    {
     "data": {
      "text/plain": [
       "array([-16.94904302, -39.54953317,  21.80876148,  26.16889639,\n",
       "        48.69199784,  77.08386894,  -3.23013294,  32.86577766,\n",
       "       -76.18053885,  53.18423228, -20.59482399, -13.5142854 ,\n",
       "        13.20997234,  87.59128796,  68.43545735,  10.74553116,\n",
       "        28.03485582,  71.5517008 , -59.0746108 , -14.17204034,\n",
       "        48.87484969, -53.62944129,  67.24361051, -38.13187195,\n",
       "       -36.77664989, -64.15987252,  36.26545527, -60.8065446 ,\n",
       "       -28.85390277, -54.82284778, -75.46432181,  57.19222596,\n",
       "         5.3308567 , -55.94251714,  60.73791137, -78.65558367,\n",
       "         7.61436556, -83.60707339, -38.59404242,  35.97719203,\n",
       "       -79.39663059,   5.29503491,  43.64753224, -74.86295845,\n",
       "       -88.65251469, -81.609052  , -75.99963428,  -2.43677724,\n",
       "       -46.6484944 , -57.38311238])"
      ]
     },
     "execution_count": 9,
     "metadata": {},
     "output_type": "execute_result"
    }
   ],
   "source": [
    "#Call the randon.uniform method of np and show and array of 50 randon numbers\n",
    "np.random.uniform(-90.000, 90.000, size=50)"
   ]
  },
  {
   "cell_type": "code",
   "execution_count": 10,
   "id": "63f8a4b9",
   "metadata": {},
   "outputs": [],
   "source": [
    "#Import timeit which tracks how long a piece of code takes\n",
    "import timeit"
   ]
  },
  {
   "cell_type": "code",
   "execution_count": 11,
   "id": "0e03e96f",
   "metadata": {},
   "outputs": [
    {
     "name": "stdout",
     "output_type": "stream",
     "text": [
      "22.9 µs ± 775 ns per loop (mean ± std. dev. of 7 runs, 10000 loops each)\n"
     ]
    }
   ],
   "source": [
    "#Increase the size of randon numbers to return and time this piece of code\n",
    "%timeit np.random.uniform(-90.000, 90.000, size=1500)"
   ]
  },
  {
   "cell_type": "code",
   "execution_count": 12,
   "id": "deabe37c",
   "metadata": {},
   "outputs": [
    {
     "name": "stdout",
     "output_type": "stream",
     "text": [
      "3.61 ms ± 460 µs per loop (mean ± std. dev. of 7 runs, 100 loops each)\n"
     ]
    }
   ],
   "source": [
    "#Run a while loop to do same as above and timeit to see which is faster\n",
    "def latitudes(size):\n",
    "    latitudes = []\n",
    "    x = 0\n",
    "    while x < (size):\n",
    "        random_lat = random.randint(-90, 90) + random.random()\n",
    "        latitudes.append(random_lat)\n",
    "        x += 1\n",
    "    return latitudes\n",
    "# Call the function with 1500.\n",
    "%timeit latitudes(1500)"
   ]
  },
  {
   "cell_type": "code",
   "execution_count": null,
   "id": "4afe32ea",
   "metadata": {},
   "outputs": [],
   "source": []
  }
 ],
 "metadata": {
  "kernelspec": {
   "display_name": "PythonData",
   "language": "python",
   "name": "pythondata"
  },
  "language_info": {
   "codemirror_mode": {
    "name": "ipython",
    "version": 3
   },
   "file_extension": ".py",
   "mimetype": "text/x-python",
   "name": "python",
   "nbconvert_exporter": "python",
   "pygments_lexer": "ipython3",
   "version": "3.7.10"
  }
 },
 "nbformat": 4,
 "nbformat_minor": 5
}
